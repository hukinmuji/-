{
 "cells": [
  {
   "cell_type": "code",
   "execution_count": 17,
   "metadata": {
    "collapsed": false
   },
   "outputs": [
    {
     "name": "stdout",
     "output_type": "stream",
     "text": [
      "[(1452549219.0, '2016-01-11 13:53:39', 'Python', 6.0), (1520132193.0, '2018-03-04 10:56:33', 'Python', 4.0), (1520132195.0, '2018-03-04 10:56:35', 'Python', 0.0), (1520132196.0, '2018-03-04 10:56:36', 'Python', 2.0), (1520132197.0, '2018-03-04 10:56:37', 'Python', 2.0), (1520132198.0, '2018-03-04 10:56:38', 'Python', 8.0), (1520132199.0, '2018-03-04 10:56:39', 'Python', 7.0), (1520132200.0, '2018-03-04 10:56:40', 'Python', 0.0), (1520132201.0, '2018-03-04 10:56:41', 'Python', 0.0), (1520132203.0, '2018-03-04 10:56:43', 'Python', 6.0), (1520132204.0, '2018-03-04 10:56:44', 'Python', 7.0)]\n",
      "(1452549219.0, '2016-01-11 13:53:39', 'Python', 6.0)\n",
      "(1520132193.0, '2018-03-04 10:56:33', 'Python', 4.0)\n",
      "(1520132195.0, '2018-03-04 10:56:35', 'Python', 0.0)\n",
      "(1520132196.0, '2018-03-04 10:56:36', 'Python', 2.0)\n",
      "(1520132197.0, '2018-03-04 10:56:37', 'Python', 2.0)\n",
      "(1520132198.0, '2018-03-04 10:56:38', 'Python', 8.0)\n",
      "(1520132199.0, '2018-03-04 10:56:39', 'Python', 7.0)\n",
      "(1520132200.0, '2018-03-04 10:56:40', 'Python', 0.0)\n",
      "(1520132201.0, '2018-03-04 10:56:41', 'Python', 0.0)\n",
      "(1520132203.0, '2018-03-04 10:56:43', 'Python', 6.0)\n",
      "(1520132204.0, '2018-03-04 10:56:44', 'Python', 7.0)\n",
      "[]\n",
      "[(1520132193.0, '2018-03-04 10:56:33', 'Python', 4.0), (1520132195.0, '2018-03-04 10:56:35', 'Python', 0.0), (1520132196.0, '2018-03-04 10:56:36', 'Python', 2.0), (1520132197.0, '2018-03-04 10:56:37', 'Python', 2.0), (1520132198.0, '2018-03-04 10:56:38', 'Python', 8.0), (1520132199.0, '2018-03-04 10:56:39', 'Python', 7.0), (1520132200.0, '2018-03-04 10:56:40', 'Python', 0.0), (1520132201.0, '2018-03-04 10:56:41', 'Python', 0.0), (1520132203.0, '2018-03-04 10:56:43', 'Python', 6.0), (1520132204.0, '2018-03-04 10:56:44', 'Python', 7.0)]\n",
      "(1520132193.0, '2018-03-04 10:56:33', 'Python', 4.0)\n",
      "(1520132195.0, '2018-03-04 10:56:35', 'Python', 0.0)\n",
      "(1520132196.0, '2018-03-04 10:56:36', 'Python', 2.0)\n",
      "(1520132197.0, '2018-03-04 10:56:37', 'Python', 2.0)\n",
      "(1520132198.0, '2018-03-04 10:56:38', 'Python', 8.0)\n",
      "(1520132199.0, '2018-03-04 10:56:39', 'Python', 7.0)\n",
      "(1520132200.0, '2018-03-04 10:56:40', 'Python', 0.0)\n",
      "(1520132201.0, '2018-03-04 10:56:41', 'Python', 0.0)\n",
      "(1520132203.0, '2018-03-04 10:56:43', 'Python', 6.0)\n",
      "(1520132204.0, '2018-03-04 10:56:44', 'Python', 7.0)\n",
      "[(4.0, '2018-03-04 10:56:33'), (0.0, '2018-03-04 10:56:35'), (2.0, '2018-03-04 10:56:36'), (2.0, '2018-03-04 10:56:37'), (8.0, '2018-03-04 10:56:38'), (7.0, '2018-03-04 10:56:39'), (0.0, '2018-03-04 10:56:40'), (0.0, '2018-03-04 10:56:41'), (6.0, '2018-03-04 10:56:43'), (7.0, '2018-03-04 10:56:44')]\n",
      "4.0\n",
      "0.0\n",
      "2.0\n",
      "2.0\n",
      "8.0\n",
      "7.0\n",
      "0.0\n",
      "0.0\n",
      "6.0\n",
      "7.0\n"
     ]
    }
   ],
   "source": [
    "import sqlite3\n",
    "import time\n",
    "import datetime\n",
    "import random\n",
    "\n",
    "conn = sqlite3.connect('tutorial.db')\n",
    "c = conn.cursor()\n",
    "\n",
    "def create_table():\n",
    "    c.execute(\"CREATE TABLE IF NOT EXISTS stuffToPlot(unix REAL, datestamp TEXT, keyword TEXT, value REAL)\")\n",
    "\n",
    "\n",
    "def data_entry():\n",
    "    c.execute(\"INSERT INTO stuffToPlot VALUES(1452549219,'2016-01-11 13:53:39','Python',6)\")\n",
    "    \n",
    "    conn.commit()\n",
    "    c.close()\n",
    "    conn.close()\n",
    "\n",
    "def dynamic_data_entry():\n",
    "\n",
    "    unix = int(time.time())\n",
    "    date = str(datetime.datetime.fromtimestamp(unix).strftime('%Y-%m-%d %H:%M:%S'))\n",
    "    keyword = 'Python'\n",
    "    value = random.randrange(0,10)\n",
    "\n",
    "    c.execute(\"INSERT INTO stuffToPlot (unix, datestamp, keyword, value) VALUES (?, ?, ?, ?)\",\n",
    "          (unix, date, keyword, value))\n",
    "\n",
    "    conn.commit()\n",
    "    time.sleep(1)\n",
    "\n",
    "def read_from_db():\n",
    "    c.execute('SELECT * FROM stuffToPlot')\n",
    "    data = c.fetchall()\n",
    "    print(data)\n",
    "    for row in data:\n",
    "        print(row)\n",
    "\n",
    "    c.execute('SELECT * FROM stuffToPlot WHERE value = 3')\n",
    "    data = c.fetchall()\n",
    "    print(data)\n",
    "    for row in data:\n",
    "        print(row)\n",
    "\n",
    "    c.execute('SELECT * FROM stuffToPlot WHERE unix > 1452554972')\n",
    "    data = c.fetchall()\n",
    "    print(data)\n",
    "    for row in data:\n",
    "        print(row)\n",
    "\n",
    "    c.execute('SELECT value, datestamp FROM stuffToPlot WHERE unix > 1452554972')\n",
    "    data = c.fetchall()\n",
    "    print(data)\n",
    "    for row in data:\n",
    "        print(row[0])\n",
    "    \n",
    "read_from_db()\n",
    "c.close\n",
    "conn.close()"
   ]
  },
  {
   "cell_type": "code",
   "execution_count": null,
   "metadata": {
    "collapsed": true
   },
   "outputs": [],
   "source": []
  }
 ],
 "metadata": {
  "kernelspec": {
   "display_name": "Python [default]",
   "language": "python",
   "name": "python3"
  },
  "language_info": {
   "codemirror_mode": {
    "name": "ipython",
    "version": 3
   },
   "file_extension": ".py",
   "mimetype": "text/x-python",
   "name": "python",
   "nbconvert_exporter": "python",
   "pygments_lexer": "ipython3",
   "version": "3.5.2"
  }
 },
 "nbformat": 4,
 "nbformat_minor": 2
}
